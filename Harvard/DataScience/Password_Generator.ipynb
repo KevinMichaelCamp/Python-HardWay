{
 "cells": [
  {
   "cell_type": "code",
   "execution_count": 163,
   "metadata": {},
   "outputs": [
    {
     "data": {
      "text/plain": [
       "'IalJtfPJ$6'"
      ]
     },
     "execution_count": 163,
     "metadata": {},
     "output_type": "execute_result"
    }
   ],
   "source": [
    "import random\n",
    "import string\n",
    "\n",
    "def password(length):\n",
    "    password = str()\n",
    "    for i in range(length - 2):\n",
    "        password += random.choice(string.ascii_letters)\n",
    "    password += random.choice(['!', '@', '#', '$', '%', '^', '&', '*', '~'])\n",
    "    password += str(random.choice(range(10)))\n",
    "    return password\n",
    "\n",
    "\n",
    "password(10)\n",
    "    "
   ]
  }
 ],
 "metadata": {
  "kernelspec": {
   "display_name": "Python 3",
   "language": "python",
   "name": "python3"
  },
  "language_info": {
   "codemirror_mode": {
    "name": "ipython",
    "version": 3
   },
   "file_extension": ".py",
   "mimetype": "text/x-python",
   "name": "python",
   "nbconvert_exporter": "python",
   "pygments_lexer": "ipython3",
   "version": "3.6.4"
  }
 },
 "nbformat": 4,
 "nbformat_minor": 4
}
