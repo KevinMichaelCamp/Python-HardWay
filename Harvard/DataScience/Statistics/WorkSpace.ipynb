{
 "cells": [
  {
   "cell_type": "code",
   "execution_count": 34,
   "metadata": {},
   "outputs": [],
   "source": [
    "import matplotlib.pyplot as plt\n",
    "import pandas as pd\n",
    "import numpy as np\n",
    "import scipy.stats as ss\n",
    "import statsmodels.api as sm"
   ]
  },
  {
   "cell_type": "code",
   "execution_count": null,
   "metadata": {},
   "outputs": [],
   "source": [
    "# Make random sample of 100 points between 0 & 10\n",
    "# rvs - random variables\n",
    "n = 100\n",
    "beta_0 = 5\n",
    "beta_1 = 2\n",
    "np.random.seed(1)\n",
    "x = 10 * ss.uniform.rvs(size=n)\n",
    "y = beta_0 + beta_1 * x + ss.norm.rvs(loc=0, scale=1, size=n)"
   ]
  },
  {
   "cell_type": "code",
   "execution_count": 15,
   "metadata": {},
   "outputs": [
    {
     "data": {
      "image/png": "[encoded data removed]",
      "text/plain": [
       "<Figure size 432x288 with 1 Axes>"
      ]
     },
     "metadata": {
      "needs_background": "light"
     },
     "output_type": "display_data"
    }
   ],
   "source": [
    "plt.figure()\n",
    "plt.plot(x, y, \"o\", ms=5);\n",
    "xx = np.array([0,10])\n",
    "plt.plot(xx, beta_0 + beta_1 * xx);\n",
    "plt.xlabel(\"$x$\");\n",
    "plt.ylabel(\"$y$\");"
   ]
  },
  {
   "cell_type": "code",
   "execution_count": 17,
   "metadata": {},
   "outputs": [
    {
     "data": {
      "text/plain": [
       "4.8587792760014565"
      ]
     },
     "execution_count": 17,
     "metadata": {},
     "output_type": "execute_result"
    }
   ],
   "source": [
    "np.mean(x)"
   ]
  },
  {
   "cell_type": "code",
   "execution_count": 18,
   "metadata": {},
   "outputs": [
    {
     "data": {
      "text/plain": [
       "14.80142786070299"
      ]
     },
     "execution_count": 18,
     "metadata": {},
     "output_type": "execute_result"
    }
   ],
   "source": [
    "np .mean(y)"
   ]
  },
  {
   "cell_type": "code",
   "execution_count": 20,
   "metadata": {},
   "outputs": [
    {
     "data": {
      "text/plain": [
       "81.540007425512"
      ]
     },
     "execution_count": 20,
     "metadata": {},
     "output_type": "execute_result"
    }
   ],
   "source": [
    "# Computing Residual Square of Sums\n",
    "\n",
    "def compute_rss(y_estimate, y):\n",
    "    return sum(np.power(y-y_estimate, 2))\n",
    "\n",
    "def estimate_y(x, b_0, b_1):\n",
    "    return b_0 + b_1 * x\n",
    "\n",
    "rss = compute_rss(estimate_y(x, beta_0, beta_1), y)\n",
    "rss"
   ]
  },
  {
   "cell_type": "code",
   "execution_count": 28,
   "metadata": {},
   "outputs": [],
   "source": [
    "# Least Squares Estimation\n",
    "rss = []\n",
    "slopes = np.arange(-10, 15, 0.001)\n",
    "\n",
    "for slope in slopes:\n",
    "    rss.append(np.sum((y - beta_0 - slope * x)**2))"
   ]
  },
  {
   "cell_type": "code",
   "execution_count": null,
   "metadata": {},
   "outputs": [],
   "source": [
    "rss"
   ]
  },
  {
   "cell_type": "code",
   "execution_count": 30,
   "metadata": {},
   "outputs": [],
   "source": [
    "ind_min = np.argmin(rss)"
   ]
  },
  {
   "cell_type": "code",
   "execution_count": 31,
   "metadata": {},
   "outputs": [
    {
     "name": "stdout",
     "output_type": "stream",
     "text": [
      "Estimate for the slope:  2.003999999993347\n"
     ]
    }
   ],
   "source": [
    "print(\"Estimate for the slope: \", slopes[ind_min])"
   ]
  },
  {
   "cell_type": "code",
   "execution_count": 32,
   "metadata": {},
   "outputs": [
    {
     "data": {
      "image/png": "[encoded data removed]",
      "text/plain": [
       "<Figure size 432x288 with 1 Axes>"
      ]
     },
     "metadata": {
      "needs_background": "light"
     },
     "output_type": "display_data"
    }
   ],
   "source": [
    "# Plot Figure\n",
    "plt.figure()\n",
    "plt.plot(slopes, rss)\n",
    "plt.xlabel(\"Slope\")\n",
    "plt.ylabel(\"RSS\");"
   ]
  },
  {
   "cell_type": "code",
   "execution_count": 35,
   "metadata": {},
   "outputs": [
    {
     "name": "stdout",
     "output_type": "stream",
     "text": [
      "                                 OLS Regression Results                                \n",
      "=======================================================================================\n",
      "Dep. Variable:                      y   R-squared (uncentered):                   0.968\n",
      "Model:                            OLS   Adj. R-squared (uncentered):              0.967\n",
      "Method:                 Least Squares   F-statistic:                              2974.\n",
      "Date:                Wed, 01 Jan 2020   Prob (F-statistic):                    1.14e-75\n",
      "Time:                        18:40:49   Log-Likelihood:                         -246.89\n",
      "No. Observations:                 100   AIC:                                      495.8\n",
      "Df Residuals:                      99   BIC:                                      498.4\n",
      "Df Model:                           1                                                  \n",
      "Covariance Type:            nonrobust                                                  \n",
      "==============================================================================\n",
      "                 coef    std err          t      P>|t|      [0.025      0.975]\n",
      "------------------------------------------------------------------------------\n",
      "x1             2.7569      0.051     54.538      0.000       2.657       2.857\n",
      "==============================================================================\n",
      "Omnibus:                        7.901   Durbin-Watson:                   1.579\n",
      "Prob(Omnibus):                  0.019   Jarque-Bera (JB):                3.386\n",
      "Skew:                           0.139   Prob(JB):                        0.184\n",
      "Kurtosis:                       2.143   Cond. No.                         1.00\n",
      "==============================================================================\n",
      "\n",
      "Warnings:\n",
      "[1] Standard Errors assume that the covariance matrix of the errors is correctly specified.\n"
     ]
    }
   ],
   "source": [
    "# Simple Linear Regression\n",
    "# OLS - Ordinary Least Squares\n",
    "mod = sm.OLS(y, x)\n",
    "est = mod.fit()\n",
    "print(est.summary())"
   ]
  },
  {
   "cell_type": "code",
   "execution_count": 48,
   "metadata": {},
   "outputs": [
    {
     "name": "stdout",
     "output_type": "stream",
     "text": [
      "                            OLS Regression Results                            \n",
      "==============================================================================\n",
      "Dep. Variable:                      y   R-squared:                       0.977\n",
      "Model:                            OLS   Adj. R-squared:                  0.977\n",
      "Method:                 Least Squares   F-statistic:                     4115.\n",
      "Date:                Wed, 01 Jan 2020   Prob (F-statistic):           7.47e-82\n",
      "Time:                        19:22:19   Log-Likelihood:                -130.72\n",
      "No. Observations:                 100   AIC:                             265.4\n",
      "Df Residuals:                      98   BIC:                             270.7\n",
      "Df Model:                           1                                         \n",
      "Covariance Type:            nonrobust                                         \n",
      "==============================================================================\n",
      "                 coef    std err          t      P>|t|      [0.025      0.975]\n",
      "------------------------------------------------------------------------------\n",
      "const          5.2370      0.174     30.041      0.000       4.891       5.583\n",
      "x1             1.9685      0.031     64.151      0.000       1.908       2.029\n",
      "==============================================================================\n",
      "Omnibus:                        2.308   Durbin-Watson:                   2.206\n",
      "Prob(Omnibus):                  0.315   Jarque-Bera (JB):                1.753\n",
      "Skew:                          -0.189   Prob(JB):                        0.416\n",
      "Kurtosis:                       3.528   Cond. No.                         11.2\n",
      "==============================================================================\n",
      "\n",
      "Warnings:\n",
      "[1] Standard Errors assume that the covariance matrix of the errors is correctly specified.\n"
     ]
    }
   ],
   "source": [
    "X = sm.add_constant(x)\n",
    "mod = sm.OLS(y, X)\n",
    "est = mod.fit()\n",
    "print(est.summary())"
   ]
  },
  {
   "cell_type": "code",
   "execution_count": null,
   "metadata": {},
   "outputs": [],
   "source": []
  }
 ],
 "metadata": {
  "kernelspec": {
   "display_name": "Python 3",
   "language": "python",
   "name": "python3"
  },
  "language_info": {
   "codemirror_mode": {
    "name": "ipython",
    "version": 3
   },
   "file_extension": ".py",
   "mimetype": "text/x-python",
   "name": "python",
   "nbconvert_exporter": "python",
   "pygments_lexer": "ipython3",
   "version": "3.6.4"
  }
 },
 "nbformat": 4,
 "nbformat_minor": 4
}
