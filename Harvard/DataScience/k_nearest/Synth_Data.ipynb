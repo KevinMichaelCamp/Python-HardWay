{
 "cells": [
  {
   "cell_type": "code",
   "execution_count": 16,
   "metadata": {},
   "outputs": [],
   "source": [
    "import scipy.stats as ss\n",
    "import numpy as np\n",
    "import matplotlib.pyplot as plt"
   ]
  },
  {
   "cell_type": "code",
   "execution_count": 22,
   "metadata": {},
   "outputs": [],
   "source": [
    "def generate_synth_data(n=50):\n",
    "    points = np.concatenate((ss.norm(0,1).rvs((n,2)), ss.norm(1,1).rvs((n,2))), axis=0)\n",
    "    outcomes = np.concatenate((np.repeat(0, n), np.repeat(1, n)))\n",
    "    return (points, outcomes)"
   ]
  },
  {
   "cell_type": "code",
   "execution_count": 25,
   "metadata": {},
   "outputs": [
    {
     "data": {
      "text/plain": [
       "array([[ 0.90045201,  0.43872488],\n",
       "       [-0.70450128,  0.20157195],\n",
       "       [ 0.37978828,  2.11078997],\n",
       "       [-0.14598017, -1.67635711],\n",
       "       [ 1.11489978, -2.56151655],\n",
       "       [-0.32870112,  1.93435179],\n",
       "       [ 1.70895332,  0.61588508],\n",
       "       [ 0.83649285, -0.51942401],\n",
       "       [-0.76233166,  0.56548033],\n",
       "       [ 0.57710738, -0.46001484],\n",
       "       [ 0.77475739,  0.72759522],\n",
       "       [ 0.77679392,  0.84818562],\n",
       "       [ 0.84209294, -0.93148176],\n",
       "       [-1.26494665, -0.50176469],\n",
       "       [ 0.26131186, -0.6011892 ],\n",
       "       [-0.58583585,  0.57745137],\n",
       "       [ 0.47734734, -0.21908899],\n",
       "       [-2.21473229, -0.61147146],\n",
       "       [ 0.21298934,  0.05321213],\n",
       "       [ 0.61849235, -0.19914199],\n",
       "       [ 0.09373541, -0.37112831],\n",
       "       [ 0.7903324 , -0.10875637],\n",
       "       [-0.83831004,  0.17244183],\n",
       "       [ 0.0193319 ,  1.60776108],\n",
       "       [ 1.00002819,  0.12849745],\n",
       "       [ 0.87383498,  0.0696989 ],\n",
       "       [-0.6236686 ,  0.53609681],\n",
       "       [-0.58672606, -1.77596966],\n",
       "       [-1.06440402, -0.79244701],\n",
       "       [-0.01544982, -0.50673739],\n",
       "       [ 0.56099185,  0.22944727],\n",
       "       [ 1.10452143, -1.42022077],\n",
       "       [-0.17870691, -1.12018166],\n",
       "       [-0.98902571,  0.25235103],\n",
       "       [-1.00408993, -1.12270754],\n",
       "       [-0.84112637,  0.17963104],\n",
       "       [-1.10960336, -0.63333218],\n",
       "       [-0.90527786, -0.64479382],\n",
       "       [ 0.38579382, -1.15829235],\n",
       "       [-0.26612544, -0.73988218],\n",
       "       [-0.94440209,  0.52248716],\n",
       "       [-0.30758554,  0.78482777],\n",
       "       [ 0.2284228 , -0.78050214],\n",
       "       [ 0.85259909, -0.26048753],\n",
       "       [ 0.03367939,  0.22495373],\n",
       "       [-1.2306005 , -1.1748824 ],\n",
       "       [-0.15897836,  1.04303174],\n",
       "       [-0.15447422,  1.61953347],\n",
       "       [-0.78115106,  0.50907354],\n",
       "       [-0.31416752,  2.65213364],\n",
       "       [ 1.70204363,  2.33681751],\n",
       "       [ 0.16696565,  1.64192413],\n",
       "       [-2.07796866,  2.84186537],\n",
       "       [-0.73933089,  0.77459978],\n",
       "       [ 2.8136214 ,  1.49088144],\n",
       "       [ 2.26515643,  0.6679905 ],\n",
       "       [ 2.18461248,  2.50168164],\n",
       "       [-0.07009606, -0.79738473],\n",
       "       [ 2.52332994,  0.38664933],\n",
       "       [ 1.11611965,  1.45977344],\n",
       "       [ 1.62759574,  0.54223512],\n",
       "       [ 1.29922576,  0.20281688],\n",
       "       [ 0.4097328 ,  3.78278409],\n",
       "       [ 3.83265782,  0.9127072 ],\n",
       "       [ 2.02041702, -0.70688321],\n",
       "       [ 0.0646833 ,  1.53454209],\n",
       "       [ 1.9378868 ,  1.70307559],\n",
       "       [ 2.49739901,  1.45961704],\n",
       "       [ 0.60586309,  1.16985896],\n",
       "       [ 1.32273857,  2.4179746 ],\n",
       "       [-0.24327786, -0.47342503],\n",
       "       [ 2.88860994,  0.28862564],\n",
       "       [ 0.19572801,  1.06291458],\n",
       "       [ 0.04213939, -0.24124606],\n",
       "       [ 1.41858772,  0.49559066],\n",
       "       [ 1.18690885,  0.24752726],\n",
       "       [ 1.26812754,  2.79952321],\n",
       "       [ 1.26592055,  1.83182812],\n",
       "       [ 2.22207694,  1.30045734],\n",
       "       [ 0.35136455,  2.14820899],\n",
       "       [ 1.43912679,  0.3372604 ],\n",
       "       [-0.37877884, -0.29735551],\n",
       "       [ 0.57786353,  1.90646368],\n",
       "       [ 1.88794174,  0.12116689],\n",
       "       [ 1.13205607,  0.40910451],\n",
       "       [ 1.92192002,  0.21520644],\n",
       "       [ 1.91355026,  1.03554607],\n",
       "       [ 0.73429567,  2.55342935],\n",
       "       [ 2.85273581, -0.09870249],\n",
       "       [ 0.36051984, -0.22214952],\n",
       "       [ 0.97190051,  1.31931867],\n",
       "       [ 0.39534294, -0.07134927],\n",
       "       [ 1.11947994,  0.96888289],\n",
       "       [ 0.8770522 ,  1.90326867],\n",
       "       [ 2.50369153,  1.58229715],\n",
       "       [ 2.15574702,  0.84983869],\n",
       "       [ 1.698146  ,  0.13830686],\n",
       "       [ 2.36912009, -2.03021237],\n",
       "       [ 0.62429702,  0.14159584],\n",
       "       [ 1.88643065,  0.58681093]])"
      ]
     },
     "execution_count": 25,
     "metadata": {},
     "output_type": "execute_result"
    }
   ],
   "source": [
    "points, outcomes = generate_synth_data(n=50)\n",
    "points"
   ]
  },
  {
   "cell_type": "code",
   "execution_count": 29,
   "metadata": {},
   "outputs": [
    {
     "data": {
      "image/png": "[encoded data removed]",
      "text/plain": [
       "<Figure size 432x288 with 1 Axes>"
      ]
     },
     "metadata": {
      "needs_background": "light"
     },
     "output_type": "display_data"
    }
   ],
   "source": [
    "n=50\n",
    "plt.figure()\n",
    "plt.plot(points[:n,0], points[:n,1], \"ro\", markersize=2)\n",
    "plt.plot(points[n:,0], points[n:,1], \"bo\", markersize=2)\n",
    "plt.show()"
   ]
  },
  {
   "cell_type": "code",
   "execution_count": null,
   "metadata": {},
   "outputs": [],
   "source": []
  }
 ],
 "metadata": {
  "kernelspec": {
   "display_name": "Python 3",
   "language": "python",
   "name": "python3"
  },
  "language_info": {
   "codemirror_mode": {
    "name": "ipython",
    "version": 3
   },
   "file_extension": ".py",
   "mimetype": "text/x-python",
   "name": "python",
   "nbconvert_exporter": "python",
   "pygments_lexer": "ipython3",
   "version": "3.6.4"
  }
 },
 "nbformat": 4,
 "nbformat_minor": 4
}
